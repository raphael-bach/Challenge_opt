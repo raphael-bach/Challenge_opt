{
  "nbformat": 4,
  "nbformat_minor": 0,
  "metadata": {
    "colab": {
      "provenance": [],
      "authorship_tag": "ABX9TyP0DVJp9SyN7I1/e+CB5KRh",
      "include_colab_link": true
    },
    "kernelspec": {
      "name": "python3",
      "display_name": "Python 3"
    },
    "language_info": {
      "name": "python"
    }
  },
  "cells": [
    {
      "cell_type": "markdown",
      "metadata": {
        "id": "view-in-github",
        "colab_type": "text"
      },
      "source": [
        "<a href=\"https://colab.research.google.com/github/raphael-bach/Challenge_opt/blob/main/desafio.ipynb\" target=\"_parent\"><img src=\"https://colab.research.google.com/assets/colab-badge.svg\" alt=\"Open In Colab\"/></a>"
      ]
    },
    {
      "cell_type": "markdown",
      "source": [
        "## Desafio ENACOM \n",
        "Raphael Frazão\n",
        "\n",
        "Considerando um capital para investimento de R$1.000.000 e as seguintes opções de\n",
        "investimento:\n",
        "\n",
        "|Opção|Descrição|Custo Investimento (R\\$)|Retorno Esperado (R\\$)|\n",
        "|:-|:-|:-|:-|\n",
        "|1| Ampliação da capacidade do armazém ZDP em 5% | 470.000| 410.000|\n",
        "|2| Ampliação da capacidade do armazém MGL em 7% | 400.000| 330.000|\n",
        "|3| Compra de empilhadeira | 170.000| 140.000|\n",
        "|4| Projeto de P&D I | 270.000| 250.000|\n",
        "|5| Projeto de P&D II | 340.000| 320.000|\n",
        "|6| Aquisição de novos equipamentos | 230.000| 320.000|\n",
        "|7| Capacitação de funcionários | 50.000| 90.000|\n",
        "|8| Ampliação da estrutura de carga rodoviária| 440.000| 190.000|\n",
        "\n",
        "Sujeito à:\n",
        "\n",
        "Se o investimento 1 for selecionado, então o investimento 5 não deve ser;\n",
        "\n",
        "Se o investimento 2 for selecionado, então o investimento 4 também deve ser.\n",
        "\n",
        "\n",
        "\n",
        "\n"
      ],
      "metadata": {
        "id": "4Cxxj7c-lg5-"
      }
    },
    {
      "cell_type": "code",
      "execution_count": 1,
      "metadata": {
        "id": "F918O_f5lez6",
        "colab": {
          "base_uri": "https://localhost:8080/"
        },
        "outputId": "516250c0-fd2e-45d2-cab4-0c9be11d4f4d"
      },
      "outputs": [
        {
          "output_type": "stream",
          "name": "stdout",
          "text": [
            "Looking in indexes: https://pypi.org/simple, https://us-python.pkg.dev/colab-wheels/public/simple/\n",
            "Requirement already satisfied: pandas in /usr/local/lib/python3.8/dist-packages (1.3.5)\n",
            "Requirement already satisfied: python-dateutil>=2.7.3 in /usr/local/lib/python3.8/dist-packages (from pandas) (2.8.2)\n",
            "Requirement already satisfied: numpy>=1.17.3 in /usr/local/lib/python3.8/dist-packages (from pandas) (1.21.6)\n",
            "Requirement already satisfied: pytz>=2017.3 in /usr/local/lib/python3.8/dist-packages (from pandas) (2022.7)\n",
            "Requirement already satisfied: six>=1.5 in /usr/local/lib/python3.8/dist-packages (from python-dateutil>=2.7.3->pandas) (1.15.0)\n",
            "Looking in indexes: https://pypi.org/simple, https://us-python.pkg.dev/colab-wheels/public/simple/\n",
            "Requirement already satisfied: numpy in /usr/local/lib/python3.8/dist-packages (1.21.6)\n",
            "\u001b[2K     \u001b[90m━━━━━━━━━━━━━━━━━━━━━━━━━━━━━━━━━━━━━━━━\u001b[0m \u001b[32m11.1/11.1 MB\u001b[0m \u001b[31m87.6 MB/s\u001b[0m eta \u001b[36m0:00:00\u001b[0m\n",
            "\u001b[2K     \u001b[90m━━━━━━━━━━━━━━━━━━━━━━━━━━━━━━━━━━━━━━━━\u001b[0m \u001b[32m49.6/49.6 KB\u001b[0m \u001b[31m5.5 MB/s\u001b[0m eta \u001b[36m0:00:00\u001b[0m\n",
            "\u001b[?25h"
          ]
        }
      ],
      "source": [
        "!pip install pandas\n",
        "!pip install numpy\n",
        "!pip install -q pyomo\n",
        "!wget -N -q \"https://ampl.com/dl/open/couenne/couenne-linux64.zip\"\n",
        "!unzip -o -q couenne-linux64\n",
        "import pyomo.environ as pyo\n",
        "from pyomo.environ import *\n",
        "from pyomo.opt import SolverFactory"
      ]
    },
    {
      "cell_type": "code",
      "source": [
        "from google.colab import drive\n",
        "drive.mount('/content/drive')"
      ],
      "metadata": {
        "colab": {
          "base_uri": "https://localhost:8080/"
        },
        "id": "hVF4LzCx3xWg",
        "outputId": "f2ef78a2-e8c0-4cdc-c94a-555e909f235c"
      },
      "execution_count": 2,
      "outputs": [
        {
          "output_type": "stream",
          "name": "stdout",
          "text": [
            "Mounted at /content/drive\n"
          ]
        }
      ]
    },
    {
      "cell_type": "code",
      "source": [
        "\n",
        "# Modelando o problema:\n",
        "\n",
        "model = pyo.ConcreteModel()\n",
        "# Definindo variaveis: com relação a seu tipo e seus limites\n",
        "model.x1 = pyo.Var(within=Integers, bounds=(0,1))\n",
        "x1 = model.x1\n",
        "model.x2 = pyo.Var(within=Integers, bounds=(0,1))\n",
        "x2 = model.x2\n",
        "model.x3 = pyo.Var(within=Integers, bounds=(0,1))\n",
        "x3 = model.x3\n",
        "model.x4 = pyo.Var(within=Integers, bounds=(0,1))\n",
        "x4 = model.x4\n",
        "model.x5 = pyo.Var(within=Integers, bounds=(0,1))\n",
        "x5 = model.x5\n",
        "model.x6 = pyo.Var(within=Integers, bounds=(0,1))\n",
        "x6 = model.x6\n",
        "model.x7 = pyo.Var(within=Integers, bounds=(0,1))\n",
        "x7 = model.x7\n",
        "model.x8 = pyo.Var(within=Integers, bounds=(0,1))\n",
        "x8 = model.x8\n",
        "\n",
        "# Restrições do problema\n",
        "model.C1 = pyo.Constraint(expr=x1*470000+x2*670000+x3*170000+x4*250000+x5*340000+x6*230000+x7*50000+x8*440000<=1000000)\n",
        "model.C2 = pyo.Constraint(expr=x1+x5<=1)\n",
        "model.C3 = pyo.Constraint(expr=x2+x4<=1)\n",
        "model.C4 = pyo.Constraint(expr=x1+x2+x3+x4+x5+x6+x7+x8 >= 1)\n",
        "# Função de Objetivo\n",
        "model.obj = pyo.Objective(expr=x1*410000+x2*650000+x3*140000+x4*320000+x5*320000+x6*320000+x7*90000+x8*190000, sense=maximize)"
      ],
      "metadata": {
        "id": "hwRCC9j0pTsO"
      },
      "execution_count": null,
      "outputs": []
    },
    {
      "cell_type": "code",
      "source": [
        "# Utilizando o Solucionador\n",
        "\n",
        "SolverFactory('couenne', executable='/content/couenne').solve(model).write()"
      ],
      "metadata": {
        "id": "WIDDURSXqCis"
      },
      "execution_count": null,
      "outputs": []
    },
    {
      "cell_type": "code",
      "source": [
        "# Imprimindo Resultados\n",
        "\n",
        "model.pprint()\n",
        "\n",
        "x1_value = pyo.value(x1)\n",
        "x2_value = pyo.value(x2)\n",
        "x3_value = pyo.value(x3)\n",
        "x4_value = pyo.value(x4)\n",
        "x5_value = pyo.value(x5)\n",
        "x6_value = pyo.value(x6)\n",
        "x7_value = pyo.value(x7)\n",
        "x8_value = pyo.value(x8)\n",
        "\n",
        "\n",
        "print('-'*50)\n",
        "print(f'x1 = {x1_value}')\n",
        "print(f'x2 = {x2_value}')\n",
        "print(f'x3 = {x3_value}')\n",
        "print(f'x4 = {x4_value}')\n",
        "print(f'x5 = {x5_value}')\n",
        "print(f'x6 = {x6_value}')\n",
        "print(f'x7 = {x7_value}')\n",
        "print(f'x8 = {x8_value}')\n"
      ],
      "metadata": {
        "id": "dMZjGEZyqTCV"
      },
      "execution_count": null,
      "outputs": []
    },
    {
      "cell_type": "code",
      "source": [
        "print(\"Os investimentos escolhidos foram:\")\n",
        "if x1_value==1:\n",
        "   print(\" Ampliação da capacidade do armazém ZDP em 5% \")\n",
        "if x2_value==1:\n",
        "   print(\" Ampliação da capacidade do armazém MGL em 7% \")\n",
        "   print(\" Projeto de P&D I \")\n",
        "if x3_value==1:\n",
        "   print(\" Compra de empilhadeira \")   \n",
        "\n",
        "if x4_value==1:\n",
        "   print(\"  Projeto de P&D I \")\n",
        "    \n",
        "if x5_value==1:\n",
        "   print(\" Projeto de P&D II \")\n",
        "if x6_value==1:\n",
        "   print(\" Aquisição de novos equipamentos \")\n",
        "if x7_value==1:\n",
        "   print(\" Capacitação de funcionários \")\n",
        "if x8_value==1:\n",
        "   print(\" Ampliação da estrutura de carga rodoviária \")"
      ],
      "metadata": {
        "colab": {
          "base_uri": "https://localhost:8080/"
        },
        "id": "KT76sCkRqtqq",
        "outputId": "fdca5bb7-886d-4c92-8727-bdf989918925"
      },
      "execution_count": null,
      "outputs": [
        {
          "output_type": "stream",
          "name": "stdout",
          "text": [
            "Os investimentos escolhidos foram:\n",
            " Ampliação da capacidade do armazém ZDP em 5% \n",
            "  Projeto de P&D I \n",
            " Aquisição de novos equipamentos \n",
            " Capacitação de funcionários \n"
          ]
        }
      ]
    }
  ]
}